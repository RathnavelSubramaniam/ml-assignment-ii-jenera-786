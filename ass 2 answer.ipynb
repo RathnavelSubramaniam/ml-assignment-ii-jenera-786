{
 "cells": [
  {
   "cell_type": "code",
   "execution_count": 1,
   "id": "691dd31f",
   "metadata": {},
   "outputs": [],
   "source": [
    "import numpy as np\n",
    "import pandas as pd\n",
    "import matplotlib.pyplot as plt\n",
    "import seaborn as sns\n",
    "import statsmodels.api as sm\n",
    "from ISLP import load_data\n"
   ]
  },
  {
   "cell_type": "code",
   "execution_count": 2,
   "id": "7e8516ae",
   "metadata": {},
   "outputs": [
    {
     "data": {
      "text/html": [
       "<div>\n",
       "<style scoped>\n",
       "    .dataframe tbody tr th:only-of-type {\n",
       "        vertical-align: middle;\n",
       "    }\n",
       "\n",
       "    .dataframe tbody tr th {\n",
       "        vertical-align: top;\n",
       "    }\n",
       "\n",
       "    .dataframe thead th {\n",
       "        text-align: right;\n",
       "    }\n",
       "</style>\n",
       "<table border=\"1\" class=\"dataframe\">\n",
       "  <thead>\n",
       "    <tr style=\"text-align: right;\">\n",
       "      <th></th>\n",
       "      <th>crim</th>\n",
       "      <th>zn</th>\n",
       "      <th>indus</th>\n",
       "      <th>chas</th>\n",
       "      <th>nox</th>\n",
       "      <th>rm</th>\n",
       "      <th>age</th>\n",
       "      <th>dis</th>\n",
       "      <th>rad</th>\n",
       "      <th>tax</th>\n",
       "      <th>ptratio</th>\n",
       "      <th>lstat</th>\n",
       "      <th>medv</th>\n",
       "    </tr>\n",
       "  </thead>\n",
       "  <tbody>\n",
       "    <tr>\n",
       "      <th>0</th>\n",
       "      <td>0.00632</td>\n",
       "      <td>18.0</td>\n",
       "      <td>2.31</td>\n",
       "      <td>0</td>\n",
       "      <td>0.538</td>\n",
       "      <td>6.575</td>\n",
       "      <td>65.2</td>\n",
       "      <td>4.0900</td>\n",
       "      <td>1</td>\n",
       "      <td>296</td>\n",
       "      <td>15.3</td>\n",
       "      <td>4.98</td>\n",
       "      <td>24.0</td>\n",
       "    </tr>\n",
       "    <tr>\n",
       "      <th>1</th>\n",
       "      <td>0.02731</td>\n",
       "      <td>0.0</td>\n",
       "      <td>7.07</td>\n",
       "      <td>0</td>\n",
       "      <td>0.469</td>\n",
       "      <td>6.421</td>\n",
       "      <td>78.9</td>\n",
       "      <td>4.9671</td>\n",
       "      <td>2</td>\n",
       "      <td>242</td>\n",
       "      <td>17.8</td>\n",
       "      <td>9.14</td>\n",
       "      <td>21.6</td>\n",
       "    </tr>\n",
       "    <tr>\n",
       "      <th>2</th>\n",
       "      <td>0.02729</td>\n",
       "      <td>0.0</td>\n",
       "      <td>7.07</td>\n",
       "      <td>0</td>\n",
       "      <td>0.469</td>\n",
       "      <td>7.185</td>\n",
       "      <td>61.1</td>\n",
       "      <td>4.9671</td>\n",
       "      <td>2</td>\n",
       "      <td>242</td>\n",
       "      <td>17.8</td>\n",
       "      <td>4.03</td>\n",
       "      <td>34.7</td>\n",
       "    </tr>\n",
       "    <tr>\n",
       "      <th>3</th>\n",
       "      <td>0.03237</td>\n",
       "      <td>0.0</td>\n",
       "      <td>2.18</td>\n",
       "      <td>0</td>\n",
       "      <td>0.458</td>\n",
       "      <td>6.998</td>\n",
       "      <td>45.8</td>\n",
       "      <td>6.0622</td>\n",
       "      <td>3</td>\n",
       "      <td>222</td>\n",
       "      <td>18.7</td>\n",
       "      <td>2.94</td>\n",
       "      <td>33.4</td>\n",
       "    </tr>\n",
       "    <tr>\n",
       "      <th>4</th>\n",
       "      <td>0.06905</td>\n",
       "      <td>0.0</td>\n",
       "      <td>2.18</td>\n",
       "      <td>0</td>\n",
       "      <td>0.458</td>\n",
       "      <td>7.147</td>\n",
       "      <td>54.2</td>\n",
       "      <td>6.0622</td>\n",
       "      <td>3</td>\n",
       "      <td>222</td>\n",
       "      <td>18.7</td>\n",
       "      <td>5.33</td>\n",
       "      <td>36.2</td>\n",
       "    </tr>\n",
       "    <tr>\n",
       "      <th>...</th>\n",
       "      <td>...</td>\n",
       "      <td>...</td>\n",
       "      <td>...</td>\n",
       "      <td>...</td>\n",
       "      <td>...</td>\n",
       "      <td>...</td>\n",
       "      <td>...</td>\n",
       "      <td>...</td>\n",
       "      <td>...</td>\n",
       "      <td>...</td>\n",
       "      <td>...</td>\n",
       "      <td>...</td>\n",
       "      <td>...</td>\n",
       "    </tr>\n",
       "    <tr>\n",
       "      <th>501</th>\n",
       "      <td>0.06263</td>\n",
       "      <td>0.0</td>\n",
       "      <td>11.93</td>\n",
       "      <td>0</td>\n",
       "      <td>0.573</td>\n",
       "      <td>6.593</td>\n",
       "      <td>69.1</td>\n",
       "      <td>2.4786</td>\n",
       "      <td>1</td>\n",
       "      <td>273</td>\n",
       "      <td>21.0</td>\n",
       "      <td>9.67</td>\n",
       "      <td>22.4</td>\n",
       "    </tr>\n",
       "    <tr>\n",
       "      <th>502</th>\n",
       "      <td>0.04527</td>\n",
       "      <td>0.0</td>\n",
       "      <td>11.93</td>\n",
       "      <td>0</td>\n",
       "      <td>0.573</td>\n",
       "      <td>6.120</td>\n",
       "      <td>76.7</td>\n",
       "      <td>2.2875</td>\n",
       "      <td>1</td>\n",
       "      <td>273</td>\n",
       "      <td>21.0</td>\n",
       "      <td>9.08</td>\n",
       "      <td>20.6</td>\n",
       "    </tr>\n",
       "    <tr>\n",
       "      <th>503</th>\n",
       "      <td>0.06076</td>\n",
       "      <td>0.0</td>\n",
       "      <td>11.93</td>\n",
       "      <td>0</td>\n",
       "      <td>0.573</td>\n",
       "      <td>6.976</td>\n",
       "      <td>91.0</td>\n",
       "      <td>2.1675</td>\n",
       "      <td>1</td>\n",
       "      <td>273</td>\n",
       "      <td>21.0</td>\n",
       "      <td>5.64</td>\n",
       "      <td>23.9</td>\n",
       "    </tr>\n",
       "    <tr>\n",
       "      <th>504</th>\n",
       "      <td>0.10959</td>\n",
       "      <td>0.0</td>\n",
       "      <td>11.93</td>\n",
       "      <td>0</td>\n",
       "      <td>0.573</td>\n",
       "      <td>6.794</td>\n",
       "      <td>89.3</td>\n",
       "      <td>2.3889</td>\n",
       "      <td>1</td>\n",
       "      <td>273</td>\n",
       "      <td>21.0</td>\n",
       "      <td>6.48</td>\n",
       "      <td>22.0</td>\n",
       "    </tr>\n",
       "    <tr>\n",
       "      <th>505</th>\n",
       "      <td>0.04741</td>\n",
       "      <td>0.0</td>\n",
       "      <td>11.93</td>\n",
       "      <td>0</td>\n",
       "      <td>0.573</td>\n",
       "      <td>6.030</td>\n",
       "      <td>80.8</td>\n",
       "      <td>2.5050</td>\n",
       "      <td>1</td>\n",
       "      <td>273</td>\n",
       "      <td>21.0</td>\n",
       "      <td>7.88</td>\n",
       "      <td>11.9</td>\n",
       "    </tr>\n",
       "  </tbody>\n",
       "</table>\n",
       "<p>506 rows × 13 columns</p>\n",
       "</div>"
      ],
      "text/plain": [
       "        crim    zn  indus  chas    nox     rm   age     dis  rad  tax  \\\n",
       "0    0.00632  18.0   2.31     0  0.538  6.575  65.2  4.0900    1  296   \n",
       "1    0.02731   0.0   7.07     0  0.469  6.421  78.9  4.9671    2  242   \n",
       "2    0.02729   0.0   7.07     0  0.469  7.185  61.1  4.9671    2  242   \n",
       "3    0.03237   0.0   2.18     0  0.458  6.998  45.8  6.0622    3  222   \n",
       "4    0.06905   0.0   2.18     0  0.458  7.147  54.2  6.0622    3  222   \n",
       "..       ...   ...    ...   ...    ...    ...   ...     ...  ...  ...   \n",
       "501  0.06263   0.0  11.93     0  0.573  6.593  69.1  2.4786    1  273   \n",
       "502  0.04527   0.0  11.93     0  0.573  6.120  76.7  2.2875    1  273   \n",
       "503  0.06076   0.0  11.93     0  0.573  6.976  91.0  2.1675    1  273   \n",
       "504  0.10959   0.0  11.93     0  0.573  6.794  89.3  2.3889    1  273   \n",
       "505  0.04741   0.0  11.93     0  0.573  6.030  80.8  2.5050    1  273   \n",
       "\n",
       "     ptratio  lstat  medv  \n",
       "0       15.3   4.98  24.0  \n",
       "1       17.8   9.14  21.6  \n",
       "2       17.8   4.03  34.7  \n",
       "3       18.7   2.94  33.4  \n",
       "4       18.7   5.33  36.2  \n",
       "..       ...    ...   ...  \n",
       "501     21.0   9.67  22.4  \n",
       "502     21.0   9.08  20.6  \n",
       "503     21.0   5.64  23.9  \n",
       "504     21.0   6.48  22.0  \n",
       "505     21.0   7.88  11.9  \n",
       "\n",
       "[506 rows x 13 columns]"
      ]
     },
     "execution_count": 2,
     "metadata": {},
     "output_type": "execute_result"
    }
   ],
   "source": [
    "Boston = load_data(\"Boston\")\n",
    "Boston"
   ]
  },
  {
   "cell_type": "markdown",
   "id": "bf47f2a4",
   "metadata": {},
   "source": [
    "# 1A\n"
   ]
  },
  {
   "cell_type": "code",
   "execution_count": 3,
   "id": "2649e4d1",
   "metadata": {},
   "outputs": [
    {
     "name": "stdout",
     "output_type": "stream",
     "text": [
      "[ 0.12024898 -2.28462632 -1.02489121  1.78674876 -0.0343147  -0.15826789\n",
      "  0.10174507  0.44824961 -0.08940856 -0.74472898  0.50988835 -0.91397064\n",
      " -0.26421458  0.10749436 -0.8012109   0.26096199  0.40700223  1.3622274\n",
      "  0.81250377  0.78769597  0.8694377  -0.26616134  0.20624513 -2.04754029\n",
      " -0.9725593   0.60095272 -0.24362044 -0.789896    0.02065379  2.68685404\n",
      "  0.21873945 -0.07489179  0.01268718 -0.3347839   1.4209604   0.14735709\n",
      "  0.31730358 -0.05674845 -0.3251869   2.34089645 -0.26276089  0.6407869\n",
      "  1.47287929 -0.61422165 -0.69787908  1.48661348 -0.43871958  0.77847081\n",
      "  0.74597547  0.53096329  0.46081261  1.4199652   1.90476107 -1.507608\n",
      "  0.65682167 -1.22219593 -0.65486698 -1.1587198  -2.13395983 -0.41834825\n",
      " -0.05413023  0.78236561 -1.91916463 -0.85248727  0.49988563 -0.03533935\n",
      "  0.44441079  0.02722507  1.37589284  0.25555     0.03111671 -1.06214937\n",
      " -0.92861754  0.68794384 -0.12307233 -1.53803346 -3.01980658 -0.8143198\n",
      " -0.47413278 -0.78271182  1.730059    2.82450052  2.45242868 -0.11254112\n",
      " -1.18577009  1.61249544  0.32451667 -0.33976507 -1.26105825 -0.02851245\n",
      " -0.65003455 -0.83258107 -0.04008684  1.25104028 -0.28151608 -0.11400871\n",
      " -2.40526344  1.56222986  0.8548831   0.81539441]\n"
     ]
    }
   ],
   "source": [
    "x = np.random.normal(0, 1, 100)\n",
    "print(x)"
   ]
  },
  {
   "cell_type": "markdown",
   "id": "8e147218",
   "metadata": {},
   "source": [
    "# 1B"
   ]
  },
  {
   "cell_type": "code",
   "execution_count": 4,
   "id": "47923514",
   "metadata": {},
   "outputs": [
    {
     "name": "stdout",
     "output_type": "stream",
     "text": [
      "[ 1.18867445e-01  2.82834109e-01  7.08803655e-03 -1.57462617e-01\n",
      " -7.23489434e-04  7.73137731e-01  1.11132565e-01 -1.74673652e-01\n",
      " -2.52350840e-01  2.26841650e-01 -1.60976873e-01  1.41151716e-02\n",
      " -1.02489915e-01 -8.09890677e-02  1.64922656e-01  3.23511331e-01\n",
      "  2.82732000e-01  2.51970539e-01 -6.41008252e-02 -9.95569468e-02\n",
      "  1.08424820e-01 -5.44275465e-01 -4.59694930e-02  4.87308175e-02\n",
      "  2.44910429e-01 -2.65017092e-01  3.22115146e-01 -5.72121181e-01\n",
      " -1.73958479e-01  5.06979524e-02 -1.27619256e-01  2.61003887e-01\n",
      " -3.76059169e-01  3.23960006e-01 -3.85916425e-01 -4.05620118e-01\n",
      " -4.23002551e-02 -1.85845455e-01 -1.88242629e-01  1.65661836e-01\n",
      "  5.11364244e-01  7.53674574e-02  1.40514043e-01  3.70147443e-01\n",
      "  3.18719805e-01  5.60575409e-02  2.34061740e-01  3.56294869e-01\n",
      " -1.56734327e-01  1.52292964e-01  8.51168229e-02  1.72105152e-02\n",
      " -1.63165140e-02  1.19917915e-01 -2.80819779e-02  2.37321870e-02\n",
      "  4.03572620e-01 -5.48925078e-01 -2.07584206e-02  5.05270078e-01\n",
      "  3.04981973e-01  1.33911121e-01  4.42440280e-01 -1.93874139e-01\n",
      "  8.74750311e-02 -1.36919181e-01 -5.38410094e-01 -7.73136768e-02\n",
      "  6.94478154e-02  7.30280802e-02  2.84579497e-01  7.38850539e-02\n",
      " -2.98050350e-01  3.27934292e-01 -1.41712278e-01 -4.64050778e-01\n",
      " -2.79194164e-02 -1.37840293e-01 -5.95769996e-02  1.38653156e-01\n",
      " -4.55357251e-01  2.55124948e-02  3.16599040e-01 -3.96362832e-01\n",
      " -3.83213902e-02 -1.42406598e-01  4.09397800e-01  2.46948334e-01\n",
      " -1.02953654e-01 -1.13602808e-01 -3.28119254e-02 -2.08121230e-01\n",
      "  2.61834356e-01 -3.75043230e-01 -1.32135809e-02 -1.08549414e-01\n",
      "  8.26282102e-02  8.75660953e-02  2.44529919e-01 -8.65205611e-02]\n"
     ]
    }
   ],
   "source": [
    "eps = np.random.normal(0, 0.25, 100)\n",
    "print(eps)"
   ]
  },
  {
   "cell_type": "markdown",
   "id": "d90fad71",
   "metadata": {},
   "source": [
    "# 1C"
   ]
  },
  {
   "cell_type": "code",
   "execution_count": 5,
   "id": "b2e22561",
   "metadata": {},
   "outputs": [
    {
     "name": "stdout",
     "output_type": "stream",
     "text": [
      "Length of y: 100\n",
      "Beta0 (β0): -1\n",
      "Beta1 (β1): 0.5\n"
     ]
    }
   ],
   "source": [
    "y = -1 + 0.5 * x + eps\n",
    "print(\"Length of y:\", len(y))\n",
    "print(\"Beta0 (β0): -1\")\n",
    "print(\"Beta1 (β1): 0.5\")"
   ]
  },
  {
   "cell_type": "markdown",
   "id": "e428b6c7",
   "metadata": {},
   "source": [
    "# 1D"
   ]
  },
  {
   "cell_type": "code",
   "execution_count": 6,
   "id": "3fa961f8",
   "metadata": {},
   "outputs": [
    {
     "data": {
      "image/png": "[encoded data removed]",
      "text/plain": [
       "<Figure size 640x480 with 1 Axes>"
      ]
     },
     "metadata": {},
     "output_type": "display_data"
    }
   ],
   "source": [
    "plt.scatter(x, y, color=\"blue\")\n",
    "plt.title(\"Scatterplot of X vs Y\")\n",
    "plt.xlabel(\"X\")\n",
    "plt.ylabel(\"Y\")\n",
    "plt.show()"
   ]
  },
  {
   "cell_type": "markdown",
   "id": "ff93e9ee",
   "metadata": {},
   "source": [
    "# 1E"
   ]
  },
  {
   "cell_type": "code",
   "execution_count": 7,
   "id": "12fc2b6f",
   "metadata": {},
   "outputs": [
    {
     "name": "stdout",
     "output_type": "stream",
     "text": [
      "                            OLS Regression Results                            \n",
      "==============================================================================\n",
      "Dep. Variable:                      y   R-squared:                       0.814\n",
      "Model:                            OLS   Adj. R-squared:                  0.812\n",
      "Method:                 Least Squares   F-statistic:                     429.0\n",
      "Date:                Mon, 18 Aug 2025   Prob (F-statistic):           1.41e-37\n",
      "Time:                        14:31:25   Log-Likelihood:                -6.3477\n",
      "No. Observations:                 100   AIC:                             16.70\n",
      "Df Residuals:                      98   BIC:                             21.91\n",
      "Df Model:                           1                                         \n",
      "Covariance Type:            nonrobust                                         \n",
      "==============================================================================\n",
      "                 coef    std err          t      P>|t|      [0.025      0.975]\n",
      "------------------------------------------------------------------------------\n",
      "const         -0.9824      0.026    -37.696      0.000      -1.034      -0.931\n",
      "x1             0.4934      0.024     20.712      0.000       0.446       0.541\n",
      "==============================================================================\n",
      "Omnibus:                        0.346   Durbin-Watson:                   2.045\n",
      "Prob(Omnibus):                  0.841   Jarque-Bera (JB):                0.163\n",
      "Skew:                          -0.097   Prob(JB):                        0.922\n",
      "Kurtosis:                       3.042   Cond. No.                         1.10\n",
      "==============================================================================\n",
      "\n",
      "Notes:\n",
      "[1] Standard Errors assume that the covariance matrix of the errors is correctly specified.\n"
     ]
    }
   ],
   "source": [
    "X = sm.add_constant(x)\n",
    "model = sm.OLS(y, X).fit()\n",
    "print(model.summary())"
   ]
  },
  {
   "cell_type": "markdown",
   "id": "4bd66602",
   "metadata": {},
   "source": [
    "# 1F"
   ]
  },
  {
   "cell_type": "code",
   "execution_count": 8,
   "id": "999d616e",
   "metadata": {},
   "outputs": [
    {
     "data": {
      "image/png": "[encoded data removed]",
      "text/plain": [
       "<Figure size 640x480 with 1 Axes>"
      ]
     },
     "metadata": {},
     "output_type": "display_data"
    }
   ],
   "source": [
    "plt.scatter(x, y, color=\"blue\", label=\"Data\")\n",
    "plt.plot(x, model.predict(X), color=\"red\", label=\"Least Squares Line\")\n",
    "plt.plot(x, -1 + 0.5*x, color=\"green\", linestyle=\"--\", label=\"True Line\")\n",
    "plt.title(\"Least Squares Line vs True Line\")\n",
    "plt.xlabel(\"X\")\n",
    "plt.ylabel(\"Y\")\n",
    "plt.legend()\n",
    "plt.show()"
   ]
  },
  {
   "cell_type": "markdown",
   "id": "d61627db",
   "metadata": {},
   "source": [
    "# 2A"
   ]
  },
  {
   "cell_type": "code",
   "execution_count": 9,
   "id": "530b8010",
   "metadata": {},
   "outputs": [
    {
     "name": "stdout",
     "output_type": "stream",
     "text": [
      "Rad Predictor Model Summary:\n",
      "                            OLS Regression Results                            \n",
      "==============================================================================\n",
      "Dep. Variable:                   crim   R-squared:                       0.391\n",
      "Model:                            OLS   Adj. R-squared:                  0.390\n",
      "Method:                 Least Squares   F-statistic:                     323.9\n",
      "Date:                Mon, 18 Aug 2025   Prob (F-statistic):           2.69e-56\n",
      "Time:                        14:31:25   Log-Likelihood:                -1680.8\n",
      "No. Observations:                 506   AIC:                             3366.\n",
      "Df Residuals:                     504   BIC:                             3374.\n",
      "Df Model:                           1                                         \n",
      "Covariance Type:            nonrobust                                         \n",
      "==============================================================================\n",
      "                 coef    std err          t      P>|t|      [0.025      0.975]\n",
      "------------------------------------------------------------------------------\n",
      "const         -2.2872      0.443     -5.157      0.000      -3.158      -1.416\n",
      "rad            0.6179      0.034     17.998      0.000       0.550       0.685\n",
      "==============================================================================\n",
      "Omnibus:                      656.459   Durbin-Watson:                   1.337\n",
      "Prob(Omnibus):                  0.000   Jarque-Bera (JB):            75417.007\n",
      "Skew:                           6.478   Prob(JB):                         0.00\n",
      "Kurtosis:                      61.389   Cond. No.                         19.2\n",
      "==============================================================================\n",
      "\n",
      "Notes:\n",
      "[1] Standard Errors assume that the covariance matrix of the errors is correctly specified.\n"
     ]
    }
   ],
   "source": [
    "y = Boston[\"crim\"]\n",
    "\n",
    "X_rad = sm.add_constant(Boston[\"rad\"])\n",
    "model_rad = sm.OLS(y, X_rad).fit()\n",
    "print(\"Rad Predictor Model Summary:\")\n",
    "print(model_rad.summary())"
   ]
  },
  {
   "cell_type": "markdown",
   "id": "253ae725",
   "metadata": {},
   "source": [
    "# 2B"
   ]
  },
  {
   "cell_type": "code",
   "execution_count": 10,
   "id": "9204e27c",
   "metadata": {},
   "outputs": [
    {
     "name": "stdout",
     "output_type": "stream",
     "text": [
      "                            OLS Regression Results                            \n",
      "==============================================================================\n",
      "Dep. Variable:                   crim   R-squared:                       0.449\n",
      "Model:                            OLS   Adj. R-squared:                  0.436\n",
      "Method:                 Least Squares   F-statistic:                     33.52\n",
      "Date:                Mon, 18 Aug 2025   Prob (F-statistic):           2.03e-56\n",
      "Time:                        14:31:25   Log-Likelihood:                -1655.4\n",
      "No. Observations:                 506   AIC:                             3337.\n",
      "Df Residuals:                     493   BIC:                             3392.\n",
      "Df Model:                          12                                         \n",
      "Covariance Type:            nonrobust                                         \n",
      "==============================================================================\n",
      "                 coef    std err          t      P>|t|      [0.025      0.975]\n",
      "------------------------------------------------------------------------------\n",
      "const         13.7784      7.082      1.946      0.052      -0.136      27.693\n",
      "zn             0.0457      0.019      2.433      0.015       0.009       0.083\n",
      "indus         -0.0584      0.084     -0.698      0.486      -0.223       0.106\n",
      "chas          -0.8254      1.183     -0.697      0.486      -3.150       1.500\n",
      "nox           -9.9576      5.290     -1.882      0.060     -20.351       0.436\n",
      "rm             0.6289      0.607      1.036      0.301      -0.564       1.822\n",
      "age           -0.0008      0.018     -0.047      0.962      -0.036       0.034\n",
      "dis           -1.0122      0.282     -3.584      0.000      -1.567      -0.457\n",
      "rad            0.6125      0.088      6.997      0.000       0.440       0.784\n",
      "tax           -0.0038      0.005     -0.730      0.466      -0.014       0.006\n",
      "ptratio       -0.3041      0.186     -1.632      0.103      -0.670       0.062\n",
      "lstat          0.1388      0.076      1.833      0.067      -0.010       0.288\n",
      "medv          -0.2201      0.060     -3.678      0.000      -0.338      -0.103\n",
      "==============================================================================\n",
      "Omnibus:                      663.436   Durbin-Watson:                   1.516\n",
      "Prob(Omnibus):                  0.000   Jarque-Bera (JB):            80856.852\n",
      "Skew:                           6.579   Prob(JB):                         0.00\n",
      "Kurtosis:                      63.514   Cond. No.                     1.24e+04\n",
      "==============================================================================\n",
      "\n",
      "Notes:\n",
      "[1] Standard Errors assume that the covariance matrix of the errors is correctly specified.\n",
      "[2] The condition number is large, 1.24e+04. This might indicate that there are\n",
      "strong multicollinearity or other numerical problems.\n",
      "\n",
      "Significant predictors (p < 0.05):\n",
      " zn      1.534403e-02\n",
      "dis     3.725942e-04\n",
      "rad     8.588123e-12\n",
      "medv    2.605302e-04\n",
      "dtype: float64\n"
     ]
    }
   ],
   "source": [
    "y = Boston[\"crim\"]\n",
    "X = Boston.drop(columns=[\"crim\"])\n",
    "X = sm.add_constant(X)\n",
    "multi_model = sm.OLS(y, X).fit()\n",
    "print(multi_model.summary())\n",
    "significant_predictors = multi_model.pvalues[multi_model.pvalues < 0.05]\n",
    "print(\"\\nSignificant predictors (p < 0.05):\\n\", significant_predictors)"
   ]
  }
 ],
 "metadata": {
  "kernelspec": {
   "display_name": "Python 3 (ipykernel)",
   "language": "python",
   "name": "python3"
  },
  "language_info": {
   "codemirror_mode": {
    "name": "ipython",
    "version": 3
   },
   "file_extension": ".py",
   "mimetype": "text/x-python",
   "name": "python",
   "nbconvert_exporter": "python",
   "pygments_lexer": "ipython3",
   "version": "3.13.2"
  }
 },
 "nbformat": 4,
 "nbformat_minor": 5
}
